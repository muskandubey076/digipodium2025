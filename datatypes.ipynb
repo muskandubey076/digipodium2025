{
 "cells": [
  {
   "cell_type": "markdown",
   "id": "b53b3c47",
   "metadata": {},
   "source": [
    "# string:"
   ]
  },
  {
   "cell_type": "code",
   "execution_count": 6,
   "id": "ffe34e91",
   "metadata": {},
   "outputs": [
    {
     "name": "stdout",
     "output_type": "stream",
     "text": [
      "johny johny yes papa\n",
      "Eating sugar no papa \n",
      "Telling lies no papa\n",
      "Open your mouth ha ha ha\n"
     ]
    }
   ],
   "source": [
    "poem = '''johny johny yes papa\n",
    "Eating sugar no papa \n",
    "Telling lies no papa\n",
    "Open your mouth ha ha ha'''\n",
    "print(poem)\n"
   ]
  },
  {
   "cell_type": "markdown",
   "id": "6c38b97c",
   "metadata": {},
   "source": [
    "# list:\n",
    "\n"
   ]
  },
  {
   "cell_type": "code",
   "execution_count": 5,
   "id": "17254bf3",
   "metadata": {},
   "outputs": [
    {
     "name": "stdout",
     "output_type": "stream",
     "text": [
      "['apple', 'banana', 'cherry', 'mango', 'apple', 'papaya', 'banana']\n"
     ]
    }
   ],
   "source": [
    "fruits=['apple','banana','cherry','mango','apple','papaya','banana']\n",
    "print(fruits)"
   ]
  },
  {
   "cell_type": "markdown",
   "id": "c990ad32",
   "metadata": {},
   "source": [
    "# set:"
   ]
  },
  {
   "cell_type": "code",
   "execution_count": 7,
   "id": "042b233b",
   "metadata": {},
   "outputs": [
    {
     "name": "stdout",
     "output_type": "stream",
     "text": [
      "{'banana', 'apple', 'papaya', 'cherry', 'mango'}\n"
     ]
    }
   ],
   "source": [
    "fruits={'apple','banana','cherry','mango','apple','papaya','banana'}\n",
    "print(fruits)"
   ]
  },
  {
   "cell_type": "markdown",
   "id": "1a26fa7f",
   "metadata": {},
   "source": [
    "# Dictionaries:"
   ]
  },
  {
   "cell_type": "code",
   "execution_count": 8,
   "id": "e7b1c6d9",
   "metadata": {},
   "outputs": [
    {
     "name": "stdout",
     "output_type": "stream",
     "text": [
      "{'brand': 'Ford', 'model': 'mustang', 'year': '2019'}\n"
     ]
    }
   ],
   "source": [
    "car_info={\"brand\":\"Ford\",\"model\":\"mustang\",\"year\":\"2019\"}\n",
    "print(car_info)"
   ]
  },
  {
   "cell_type": "code",
   "execution_count": null,
   "id": "238fc488",
   "metadata": {},
   "outputs": [
    {
     "ename": "SyntaxError",
     "evalue": "invalid syntax. Perhaps you forgot a comma? (3040795339.py, line 2)",
     "output_type": "error",
     "traceback": [
      "  \u001b[36mCell\u001b[39m\u001b[36m \u001b[39m\u001b[32mIn[11]\u001b[39m\u001b[32m, line 2\u001b[39m\n\u001b[31m    \u001b[39m\u001b[31m\"brand\": [\"Ford\", \"BMW\", \"Fiat\"]\u001b[39m\n             ^\n\u001b[31mSyntaxError\u001b[39m\u001b[31m:\u001b[39m invalid syntax. Perhaps you forgot a comma?\n"
     ]
    }
   ],
   "source": [
    "car_info= {\n",
    "    \"brand\": [\"Ford\", \"BMW\", \"Fiat\"]\n",
    "    \"model\": [\"Mustang\", \"X5\",\"500\"],\n",
    "    \"year\" : [\"1966\",\"2018\",\"2019\"],\n",
    "             \n",
    "}\n",
    "print(car_info)"
   ]
  },
  {
   "cell_type": "code",
   "execution_count": null,
   "id": "99fe7bff",
   "metadata": {},
   "outputs": [],
   "source": []
  },
  {
   "cell_type": "code",
   "execution_count": null,
   "id": "043ac369",
   "metadata": {},
   "outputs": [],
   "source": []
  },
  {
   "cell_type": "code",
   "execution_count": null,
   "id": "64e0aeb5",
   "metadata": {},
   "outputs": [],
   "source": []
  },
  {
   "cell_type": "code",
   "execution_count": null,
   "id": "67918d54",
   "metadata": {},
   "outputs": [],
   "source": []
  }
 ],
 "metadata": {
  "kernelspec": {
   "display_name": "base",
   "language": "python",
   "name": "python3"
  },
  "language_info": {
   "codemirror_mode": {
    "name": "ipython",
    "version": 3
   },
   "file_extension": ".py",
   "mimetype": "text/x-python",
   "name": "python",
   "nbconvert_exporter": "python",
   "pygments_lexer": "ipython3",
   "version": "3.13.2"
  }
 },
 "nbformat": 4,
 "nbformat_minor": 5
}
