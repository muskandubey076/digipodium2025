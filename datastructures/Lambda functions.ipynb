{
 "cells": [
  {
   "cell_type": "code",
   "execution_count": 1,
   "id": "eda213c3",
   "metadata": {},
   "outputs": [
    {
     "name": "stdout",
     "output_type": "stream",
     "text": [
      "Even\n"
     ]
    }
   ],
   "source": [
    "# LAMBDA FUNCTION FOR EVEN NUMBER:\n",
    "even=lambda x :\"Even\" if x%2==0 else\"odd\"\n",
    "print(even(2))"
   ]
  },
  {
   "cell_type": "code",
   "execution_count": 3,
   "id": "67708952",
   "metadata": {},
   "outputs": [
    {
     "name": "stdout",
     "output_type": "stream",
     "text": [
      "<function <lambda> at 0x0000014DAADF22A0>\n"
     ]
    }
   ],
   "source": [
    "square=lambda x: x**2\n",
    "print(square)"
   ]
  },
  {
   "cell_type": "code",
   "execution_count": 4,
   "id": "eac5c475",
   "metadata": {},
   "outputs": [
    {
     "name": "stdout",
     "output_type": "stream",
     "text": [
      "Equileteral\n"
     ]
    }
   ],
   "source": [
    "# equilateral triangle:\n",
    "equileteral=lambda a,b,c :\"Equileteral\" if a==b==c else \"no equilateral\"\n",
    "print(equileteral(2,2,2))\n"
   ]
  },
  {
   "cell_type": "code",
   "execution_count": null,
   "id": "2e1a3a11",
   "metadata": {},
   "outputs": [],
   "source": []
  },
  {
   "cell_type": "code",
   "execution_count": null,
   "id": "261cefbc",
   "metadata": {},
   "outputs": [],
   "source": []
  },
  {
   "cell_type": "code",
   "execution_count": null,
   "id": "66c32033",
   "metadata": {},
   "outputs": [],
   "source": []
  },
  {
   "cell_type": "code",
   "execution_count": null,
   "id": "b9991e3d",
   "metadata": {},
   "outputs": [],
   "source": []
  }
 ],
 "metadata": {
  "kernelspec": {
   "display_name": "base",
   "language": "python",
   "name": "python3"
  },
  "language_info": {
   "codemirror_mode": {
    "name": "ipython",
    "version": 3
   },
   "file_extension": ".py",
   "mimetype": "text/x-python",
   "name": "python",
   "nbconvert_exporter": "python",
   "pygments_lexer": "ipython3",
   "version": "3.13.2"
  }
 },
 "nbformat": 4,
 "nbformat_minor": 5
}
