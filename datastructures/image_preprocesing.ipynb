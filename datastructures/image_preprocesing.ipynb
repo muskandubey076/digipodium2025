{
 "cells": [
  {
   "cell_type": "code",
   "execution_count": 1,
   "id": "b1b95c55",
   "metadata": {},
   "outputs": [],
   "source": [
    "import cv2"
   ]
  },
  {
   "cell_type": "code",
   "execution_count": 5,
   "id": "fa1a22fc",
   "metadata": {},
   "outputs": [],
   "source": [
    "image = cv2.imread('image.jpg')"
   ]
  },
  {
   "cell_type": "code",
   "execution_count": 6,
   "id": "8a69380f",
   "metadata": {},
   "outputs": [],
   "source": [
    "if image is not None:\n",
    "    cv2.imshow('Image',image)\n",
    "    cv2.waitKey(0)\n",
    "    cv2.destroyAllWindows()\n"
   ]
  },
  {
   "cell_type": "code",
   "execution_count": 2,
   "id": "e4490253",
   "metadata": {},
   "outputs": [
    {
     "ename": "NameError",
     "evalue": "name 'image' is not defined",
     "output_type": "error",
     "traceback": [
      "\u001b[31m---------------------------------------------------------------------------\u001b[39m",
      "\u001b[31mNameError\u001b[39m                                 Traceback (most recent call last)",
      "\u001b[36mCell\u001b[39m\u001b[36m \u001b[39m\u001b[32mIn[2]\u001b[39m\u001b[32m, line 1\u001b[39m\n\u001b[32m----> \u001b[39m\u001b[32m1\u001b[39m \u001b[43mimage\u001b[49m\n",
      "\u001b[31mNameError\u001b[39m: name 'image' is not defined"
     ]
    }
   ],
   "source": [
    "image"
   ]
  },
  {
   "cell_type": "code",
   "execution_count": 8,
   "id": "32efa975",
   "metadata": {},
   "outputs": [],
   "source": [
    "# i wnat image black & white\n",
    "grey_image = cv2.cvtColor(image, cv2.COLOR_BGR2GRAY)\n",
    "cv2.imshow('Image',grey_image)\n",
    "cv2.waitKey(0)\n",
    "cv2.destroyAllWindows()"
   ]
  },
  {
   "cell_type": "code",
   "execution_count": null,
   "id": "61dc3a97",
   "metadata": {},
   "outputs": [],
   "source": [
    "cv2.imshow('Image',image)\n",
    "cv2.waitKey(0)\n",
    "cv2.destroyAllWindows()"
   ]
  },
  {
   "cell_type": "code",
   "execution_count": null,
   "id": "82a8b367",
   "metadata": {},
   "outputs": [
    {
     "data": {
      "text/plain": [
       "-1"
      ]
     },
     "execution_count": 22,
     "metadata": {},
     "output_type": "execute_result"
    }
   ],
   "source": [
    "#i want image blured\n",
    "blurred_image = cv2.GaussianBlur(image, (15, 15), 0)\n",
    "cv2.imshow('Blurred Image', blurred_image)\n",
    "cv2.waitKey(0)"
   ]
  },
  {
   "cell_type": "code",
   "execution_count": 9,
   "metadata": {},
   "outputs": [],
   "source": [
    "#image ki edges nikaalni hai\n",
    "edges = cv2.Canny(grey_image, 100, 200)\n",
    "cv2.imshow('Edges', edges)\n",
    "cv2.waitKey(0)\n",
    "cv2.destroyAllWindows()\n"
   ]
  },
  {
   "cell_type": "code",
   "execution_count": 12,
   "metadata": {},
   "outputs": [],
   "source": [
    "# image reshize\n",
    "resized_image = cv2.resize(image, (300, 300))\n",
    "cv2.imshow('Resized Image', resized_image)\n",
    "cv2.waitKey(0)\n",
    "cv2.destroyAllWindows()"
   ]
  },
  {
   "cell_type": "code",
   "execution_count": 1,
   "id": "c6a6b088",
   "metadata": {},
   "outputs": [
    {
     "ename": "NameError",
     "evalue": "name 'image' is not defined",
     "output_type": "error",
     "traceback": [
      "\u001b[31m---------------------------------------------------------------------------\u001b[39m",
      "\u001b[31mNameError\u001b[39m                                 Traceback (most recent call last)",
      "\u001b[36mCell\u001b[39m\u001b[36m \u001b[39m\u001b[32mIn[1]\u001b[39m\u001b[32m, line 2\u001b[39m\n\u001b[32m      1\u001b[39m \u001b[38;5;66;03m# i want image crop\u001b[39;00m\n\u001b[32m----> \u001b[39m\u001b[32m2\u001b[39m cropped_image = \u001b[43mimage\u001b[49m[\u001b[32m100\u001b[39m:\u001b[32m200\u001b[39m, \u001b[32m50\u001b[39m:\u001b[32m200\u001b[39m]  \u001b[38;5;66;03m# Crop a region of interest\u001b[39;00m\n\u001b[32m      3\u001b[39m cv2.imshow(\u001b[33m'\u001b[39m\u001b[33mCropped Image\u001b[39m\u001b[33m'\u001b[39m, cropped_image)\n\u001b[32m      4\u001b[39m cv2.waitKey(\u001b[32m0\u001b[39m)\n",
      "\u001b[31mNameError\u001b[39m: name 'image' is not defined"
     ]
    }
   ],
   "source": [
    "# i want image crop\n",
    "cropped_image = image[100:200, 50:200]  # Crop a region of interest\n",
    "cv2.imshow('Cropped Image', cropped_image)\n",
    "cv2.waitKey(0)\n",
    "cv2.destroyAllWindows()"
   ]
  },
  {
   "cell_type": "code",
   "execution_count": null,
   "metadata": {},
   "outputs": [
    {
     "name": "stdout",
     "output_type": "stream",
     "text": [
      "Total number of pixels in the image: 50481\n"
     ]
    }
   ],
   "source": [
    "#i want tottal number of pixels in image\n",
    "total_pixels = image.shape[0] * image.shape[1]\n",
    "print(f'Total number of pixels in the image: {total_pixels}')"
   ]
  },
  {
   "cell_type": "code",
   "execution_count": 14,
   "id": "c56ed883",
   "metadata": {},
   "outputs": [
    {
     "data": {
      "text/plain": [
       "(237, 213, 3)"
      ]
     },
     "execution_count": 14,
     "metadata": {},
     "output_type": "execute_result"
    }
   ],
   "source": [
    "image.shape"
   ]
  },
  {
   "cell_type": "code",
   "execution_count": null,
   "id": "d4b65241",
   "metadata": {},
   "outputs": [],
   "source": []
  }
 ],
 "metadata": {
  "kernelspec": {
   "display_name": "base",
   "language": "python",
   "name": "python3"
  },
  "language_info": {
   "codemirror_mode": {
    "name": "ipython",
    "version": 3
   },
   "file_extension": ".py",
   "mimetype": "text/x-python",
   "name": "python",
   "nbconvert_exporter": "python",
   "pygments_lexer": "ipython3",
   "version": "3.13.2"
  }
 },
 "nbformat": 4,
 "nbformat_minor": 5
}
