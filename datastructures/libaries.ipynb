{
 "cells": [
  {
   "cell_type": "code",
   "execution_count": 28,
   "id": "21bcf46a",
   "metadata": {},
   "outputs": [],
   "source": [
    "import math\n"
   ]
  },
  {
   "cell_type": "code",
   "execution_count": 29,
   "id": "134080d0",
   "metadata": {},
   "outputs": [
    {
     "name": "stdout",
     "output_type": "stream",
     "text": [
      "120\n"
     ]
    }
   ],
   "source": [
    "print(math.factorial(5))"
   ]
  },
  {
   "cell_type": "code",
   "execution_count": 30,
   "id": "08f2612e",
   "metadata": {},
   "outputs": [
    {
     "name": "stdout",
     "output_type": "stream",
     "text": [
      "4.0\n"
     ]
    }
   ],
   "source": [
    "print(math.sqrt(16))"
   ]
  },
  {
   "cell_type": "code",
   "execution_count": 31,
   "id": "ed78c0cb",
   "metadata": {},
   "outputs": [
    {
     "name": "stdout",
     "output_type": "stream",
     "text": [
      "-0.4480736161291701\n"
     ]
    }
   ],
   "source": [
    "print(math.cos(90))"
   ]
  },
  {
   "cell_type": "code",
   "execution_count": 32,
   "id": "5f6e471b",
   "metadata": {},
   "outputs": [
    {
     "name": "stdout",
     "output_type": "stream",
     "text": [
      "12\n"
     ]
    }
   ],
   "source": [
    "print(math.lcm(2,3,4))"
   ]
  },
  {
   "cell_type": "code",
   "execution_count": 33,
   "id": "4f8b5ffc",
   "metadata": {},
   "outputs": [
    {
     "name": "stdout",
     "output_type": "stream",
     "text": [
      "3.141592653589793\n"
     ]
    }
   ],
   "source": [
    "print(math.pi)"
   ]
  },
  {
   "cell_type": "code",
   "execution_count": 34,
   "id": "058f4e14",
   "metadata": {},
   "outputs": [
    {
     "name": "stdout",
     "output_type": "stream",
     "text": [
      "0.0\n"
     ]
    }
   ],
   "source": [
    "print(math.log(1))"
   ]
  },
  {
   "cell_type": "code",
   "execution_count": 35,
   "id": "4ac71646",
   "metadata": {},
   "outputs": [
    {
     "name": "stdout",
     "output_type": "stream",
     "text": [
      "0.8414709848078965\n"
     ]
    }
   ],
   "source": [
    "print(math.sin(1))"
   ]
  },
  {
   "cell_type": "code",
   "execution_count": 36,
   "id": "4de42006",
   "metadata": {},
   "outputs": [],
   "source": [
    "from random import random, randint, choice,shuffle"
   ]
  },
  {
   "cell_type": "code",
   "execution_count": 37,
   "id": "c6bfaa3a",
   "metadata": {},
   "outputs": [
    {
     "name": "stdout",
     "output_type": "stream",
     "text": [
      "get a random number between 0 and 1: 0.6269092858099827\n",
      "get a random number between 1 and 100: 43\n",
      "select a random elemnet from  list : 7\n",
      "shuffle List: ['john', 'jane', 'meera', 'jill']\n"
     ]
    }
   ],
   "source": [
    "print ('get a random number between 0 and 1:',random())\n",
    "print('get a random number between 1 and 100:' , randint(1,100))\n",
    "print('select a random elemnet from  list :',choice([1,2,3,4,5,6,7,8,9,10]))\n",
    "names=['john','jane','meera','jill']\n",
    "shuffle(names)\n",
    "print('shuffle List:',names)"
   ]
  },
  {
   "cell_type": "code",
   "execution_count": null,
   "id": "71d72dae",
   "metadata": {},
   "outputs": [],
   "source": [
    "from datetime import datetime as dt"
   ]
  },
  {
   "cell_type": "code",
   "execution_count": null,
   "metadata": {},
   "outputs": [
    {
     "name": "stdout",
     "output_type": "stream",
     "text": [
      "current date and time: 2025-07-03 10:42:46.991555\n"
     ]
    }
   ],
   "source": [
    "print('current date and time:',dt.now())"
   ]
  },
  {
   "cell_type": "code",
   "execution_count": null,
   "id": "fe32c9af",
   "metadata": {},
   "outputs": [
    {
     "name": "stdout",
     "output_type": "stream",
     "text": [
      "current Time :  10:49:55.283905\n"
     ]
    }
   ],
   "source": [
    "print('current Time : ',dt.now().time())"
   ]
  },
  {
   "cell_type": "code",
   "execution_count": null,
   "id": "fbebe885",
   "metadata": {},
   "outputs": [
    {
     "name": "stdout",
     "output_type": "stream",
     "text": [
      "current year: 2025\n"
     ]
    }
   ],
   "source": [
    "print('current year:',dt.now().year)"
   ]
  },
  {
   "cell_type": "code",
   "execution_count": 39,
   "id": "3a951328",
   "metadata": {},
   "outputs": [
    {
     "name": "stdout",
     "output_type": "stream",
     "text": [
      "current month: 7\n",
      "current.hour: 10\n"
     ]
    }
   ],
   "source": [
    "print('current month:',dt.now().month)\n",
    "print('current.hour:',dt.now().hour)"
   ]
  },
  {
   "cell_type": "code",
   "execution_count": 41,
   "id": "c7c7c829",
   "metadata": {},
   "outputs": [
    {
     "name": "stdout",
     "output_type": "stream",
     "text": [
      "current weekday: 3\n"
     ]
    }
   ],
   "source": [
    "print('current weekday:',dt.now().weekday())"
   ]
  },
  {
   "cell_type": "code",
   "execution_count": 43,
   "id": "7b9c2935",
   "metadata": {},
   "outputs": [
    {
     "name": "stdout",
     "output_type": "stream",
     "text": [
      " 03 - 07 -25\n"
     ]
    }
   ],
   "source": [
    "date=dt.strftime(dt.now(),\" %d - %m -%y\")\n",
    "print(date)"
   ]
  },
  {
   "cell_type": "code",
   "execution_count": null,
   "metadata": {},
   "outputs": [],
   "source": []
  },
  {
   "cell_type": "code",
   "execution_count": null,
   "id": "05035a98",
   "metadata": {},
   "outputs": [],
   "source": []
  }
 ],
 "metadata": {
  "kernelspec": {
   "display_name": "base",
   "language": "python",
   "name": "python3"
  },
  "language_info": {
   "codemirror_mode": {
    "name": "ipython",
    "version": 3
   },
   "file_extension": ".py",
   "mimetype": "text/x-python",
   "name": "python",
   "nbconvert_exporter": "python",
   "pygments_lexer": "ipython3",
   "version": "3.13.2"
  }
 },
 "nbformat": 4,
 "nbformat_minor": 5
}
