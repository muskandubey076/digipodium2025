{
 "cells": [
  {
   "cell_type": "code",
   "execution_count": 8,
   "id": "70e05415",
   "metadata": {},
   "outputs": [
    {
     "name": "stdout",
     "output_type": "stream",
     "text": [
      "['swiggy', 'zomato', 'whatsap', 'ola', 'uber', 'facebook', 'instagram', 'teligram', 'repido', 'cemra', 'game', 'snapchat']\n"
     ]
    }
   ],
   "source": [
    "apps=['swiggy','zomato','whatsap','ola','uber','facebook','instagram','teligram','repido','cemra','game','snapchat']\n",
    "print(apps)"
   ]
  },
  {
   "cell_type": "code",
   "execution_count": 9,
   "id": "9b234422",
   "metadata": {},
   "outputs": [
    {
     "name": "stdout",
     "output_type": "stream",
     "text": [
      "swiggy zomato whatsap ola uber facebook instagram teligram repido cemra game snapchat "
     ]
    }
   ],
   "source": [
    "for i in apps:\n",
    "    print(i,end=\" \")"
   ]
  },
  {
   "cell_type": "code",
   "execution_count": 10,
   "id": "c5051bb9",
   "metadata": {},
   "outputs": [
    {
     "name": "stdout",
     "output_type": "stream",
     "text": [
      "zomato\n"
     ]
    }
   ],
   "source": [
    "#Indexing:\n",
    "print(apps[1])"
   ]
  },
  {
   "cell_type": "code",
   "execution_count": 11,
   "id": "81347992",
   "metadata": {},
   "outputs": [
    {
     "name": "stdout",
     "output_type": "stream",
     "text": [
      "facebook\n"
     ]
    }
   ],
   "source": [
    "print(apps[5])"
   ]
  },
  {
   "cell_type": "markdown",
   "id": "f890b4e5",
   "metadata": {},
   "source": [
    "# nigative indexing\n"
   ]
  },
  {
   "cell_type": "code",
   "execution_count": 12,
   "metadata": {},
   "outputs": [
    {
     "name": "stdout",
     "output_type": "stream",
     "text": [
      "cemra\n",
      "teligram\n"
     ]
    }
   ],
   "source": [
    "print(apps[-3])\n",
    "print(apps[-5])"
   ]
  },
  {
   "cell_type": "code",
   "execution_count": 13,
   "id": "31195819",
   "metadata": {},
   "outputs": [
    {
     "name": "stdout",
     "output_type": "stream",
     "text": [
      "5\n"
     ]
    }
   ],
   "source": [
    "# to find the index of an element:\n",
    "print(apps.index('facebook'))"
   ]
  },
  {
   "cell_type": "markdown",
   "id": "87ae7f15",
   "metadata": {},
   "source": [
    "# slicing:"
   ]
  },
  {
   "cell_type": "code",
   "execution_count": 14,
   "id": "ea318c45",
   "metadata": {},
   "outputs": [
    {
     "name": "stdout",
     "output_type": "stream",
     "text": [
      "['whatsap', 'ola', 'uber']\n"
     ]
    }
   ],
   "source": [
    "# i want 2 no. ele.to 5 no. ele:\n",
    "print(apps[2:5])"
   ]
  },
  {
   "cell_type": "code",
   "execution_count": 15,
   "id": "1b1d41eb",
   "metadata": {},
   "outputs": [
    {
     "name": "stdout",
     "output_type": "stream",
     "text": [
      "['teligram', 'repido', 'cemra']\n"
     ]
    }
   ],
   "source": [
    "#if we want -2 to -5 index:\n",
    "print(apps[-5:-2])"
   ]
  },
  {
   "cell_type": "code",
   "execution_count": 16,
   "id": "ddfd3484",
   "metadata": {},
   "outputs": [
    {
     "name": "stdout",
     "output_type": "stream",
     "text": [
      "[]\n"
     ]
    }
   ],
   "source": [
    "print(apps[-2:-5])# flow of exicution left to right hota hai:"
   ]
  },
  {
   "cell_type": "markdown",
   "id": "58f62bdb",
   "metadata": {},
   "source": [
    "# List methods:"
   ]
  },
  {
   "cell_type": "markdown",
   "id": "f4758c12",
   "metadata": {},
   "source": [
    "#apppend()-to add item at the end of the list\n",
    "\n",
    "#inset()-to add items at any specific position in the list\n",
    "\n",
    "#pop()-to delete item using its index position\n",
    "\n",
    "#clear()- to dlete all the items from the list but not the list\n",
    "\n",
    "#remove()-to delete item using item name \n",
    "\n",
    "#copy()-to make a duplicate of the list\n",
    "\n",
    "#sort()-to sort the list in a particular order\n",
    "\n",
    "#extend()-to combine two list into a single list"
   ]
  },
  {
   "cell_type": "code",
   "execution_count": 17,
   "id": "8f6380c3",
   "metadata": {},
   "outputs": [
    {
     "name": "stdout",
     "output_type": "stream",
     "text": [
      "['swiggy', 'zomato', 'whatsap', 'ola', 'uber', 'facebook', 'instagram', 'teligram', 'repido', 'cemra', 'game', 'snapchat', 'artel']\n"
     ]
    }
   ],
   "source": [
    "apps.append('artel')\n",
    "print(apps)"
   ]
  },
  {
   "cell_type": "code",
   "execution_count": 18,
   "id": "624a1f7a",
   "metadata": {},
   "outputs": [
    {
     "name": "stdout",
     "output_type": "stream",
     "text": [
      "['swiggy', 'zomato', 'netflix', 'whatsap', 'ola', 'uber', 'facebook', 'instagram', 'teligram', 'repido', 'cemra', 'game', 'snapchat', 'artel']\n"
     ]
    }
   ],
   "source": [
    "apps.insert(2,'netflix')\n",
    "print(apps)"
   ]
  },
  {
   "cell_type": "code",
   "execution_count": 19,
   "id": "c73d7bfb",
   "metadata": {},
   "outputs": [
    {
     "name": "stdout",
     "output_type": "stream",
     "text": [
      "['swiggy', 'zomato', 'netflix', 'whatsap', 'ola', 'facebook', 'instagram', 'teligram', 'repido', 'cemra', 'game', 'snapchat', 'artel']\n"
     ]
    }
   ],
   "source": [
    "apps.pop(5)\n",
    "print(apps)"
   ]
  },
  {
   "cell_type": "code",
   "execution_count": 20,
   "id": "7f24bf14",
   "metadata": {},
   "outputs": [
    {
     "name": "stdout",
     "output_type": "stream",
     "text": [
      "['swiggy', 'zomato', 'netflix', 'whatsap', 'ola', 'facebook', 'instagram', 'teligram', 'repido', 'cemra', 'game', 'snapchat', 'artel']\n"
     ]
    }
   ],
   "source": [
    "apps_copy = apps.copy()\n",
    "print(apps_copy)"
   ]
  },
  {
   "cell_type": "code",
   "execution_count": 21,
   "id": "e04910d9",
   "metadata": {},
   "outputs": [
    {
     "name": "stdout",
     "output_type": "stream",
     "text": [
      "['swiggy', 'zomato', 'netflix', 'whatsap', 'ola', 'facebook', 'instagram', 'teligram', 'repido', 'cemra', 'game', 'snapchat', 'artel']\n"
     ]
    }
   ],
   "source": [
    "apps_copy = apps.copy()\n",
    "print(apps_copy)"
   ]
  },
  {
   "cell_type": "code",
   "execution_count": 22,
   "id": "d71dda3e",
   "metadata": {},
   "outputs": [
    {
     "name": "stdout",
     "output_type": "stream",
     "text": [
      "['artel', 'cemra', 'facebook', 'game', 'instagram', 'netflix', 'ola', 'repido', 'snapchat', 'swiggy', 'teligram', 'whatsap', 'zomato']\n"
     ]
    }
   ],
   "source": [
    "apps.sort()\n",
    "print(apps)"
   ]
  },
  {
   "cell_type": "code",
   "execution_count": 23,
   "id": "3e8da5ad",
   "metadata": {},
   "outputs": [
    {
     "name": "stdout",
     "output_type": "stream",
     "text": [
      "['artel', 'cemra', 'facebook', 'game', 'instagram', 'netflix', 'ola', 'repido', 'snapchat', 'swiggy', 'teligram', 'whatsap', 'zomato', 'hostar', 'disney', 'prinme']\n"
     ]
    }
   ],
   "source": [
    "apps2 = ['hostar','disney','prinme']\n",
    "apps.extend(apps2)\n",
    "print(apps)"
   ]
  },
  {
   "cell_type": "code",
   "execution_count": 24,
   "id": "fd89ac87",
   "metadata": {},
   "outputs": [
    {
     "name": "stdout",
     "output_type": "stream",
     "text": [
      "['hostar', 'disney', 'prinme', 'artel', 'cemra', 'facebook', 'game', 'instagram', 'netflix', 'ola', 'repido', 'snapchat', 'swiggy', 'teligram', 'whatsap', 'zomato', 'hostar', 'disney', 'prinme']\n"
     ]
    }
   ],
   "source": [
    "apps2.extend(apps)\n",
    "print(apps2)"
   ]
  },
  {
   "cell_type": "code",
   "execution_count": null,
   "id": "87353b91",
   "metadata": {},
   "outputs": [],
   "source": []
  },
  {
   "cell_type": "code",
   "execution_count": null,
   "id": "351844e9",
   "metadata": {},
   "outputs": [],
   "source": []
  },
  {
   "cell_type": "code",
   "execution_count": null,
   "id": "996684b2",
   "metadata": {},
   "outputs": [],
   "source": []
  },
  {
   "cell_type": "code",
   "execution_count": null,
   "id": "459e4184",
   "metadata": {},
   "outputs": [],
   "source": []
  },
  {
   "cell_type": "code",
   "execution_count": null,
   "id": "9dd50495",
   "metadata": {},
   "outputs": [],
   "source": []
  }
 ],
 "metadata": {
  "kernelspec": {
   "display_name": "base",
   "language": "python",
   "name": "python3"
  },
  "language_info": {
   "codemirror_mode": {
    "name": "ipython",
    "version": 3
   },
   "file_extension": ".py",
   "mimetype": "text/x-python",
   "name": "python",
   "nbconvert_exporter": "python",
   "pygments_lexer": "ipython3",
   "version": "3.13.2"
  }
 },
 "nbformat": 4,
 "nbformat_minor": 5
}
