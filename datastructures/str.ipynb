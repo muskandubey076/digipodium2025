{
 "cells": [
  {
   "cell_type": "markdown",
   "id": "7a69418c",
   "metadata": {},
   "source": [
    "# string:"
   ]
  },
  {
   "cell_type": "code",
   "execution_count": 7,
   "id": "ccca0fce",
   "metadata": {},
   "outputs": [
    {
     "name": "stdout",
     "output_type": "stream",
     "text": [
      "my name is muskan dubey\n"
     ]
    }
   ],
   "source": [
    "intro = \"my name is muskan dubey\"\n",
    "print(intro)\n"
   ]
  },
  {
   "cell_type": "markdown",
   "id": "999a37e5",
   "metadata": {},
   "source": [
    "# slicing:"
   ]
  },
  {
   "cell_type": "code",
   "execution_count": 8,
   "id": "ea1d1e89",
   "metadata": {},
   "outputs": [
    {
     "name": "stdout",
     "output_type": "stream",
     "text": [
      " na\n"
     ]
    }
   ],
   "source": [
    "print(intro[2:5])"
   ]
  },
  {
   "cell_type": "code",
   "execution_count": 9,
   "id": "682889ae",
   "metadata": {},
   "outputs": [
    {
     "name": "stdout",
     "output_type": "stream",
     "text": [
      "ey\n"
     ]
    }
   ],
   "source": [
    "print(intro[-2:])"
   ]
  },
  {
   "cell_type": "code",
   "execution_count": 10,
   "id": "ed6569b4",
   "metadata": {},
   "outputs": [
    {
     "name": "stdout",
     "output_type": "stream",
     "text": [
      " dub\n"
     ]
    }
   ],
   "source": [
    "print(intro[-6:-2])"
   ]
  },
  {
   "cell_type": "markdown",
   "id": "43c0c141",
   "metadata": {},
   "source": [
    "# Opretion:"
   ]
  },
  {
   "cell_type": "code",
   "execution_count": 17,
   "id": "7fc3e870",
   "metadata": {},
   "outputs": [
    {
     "name": "stdout",
     "output_type": "stream",
     "text": [
      "hello muskan\n"
     ]
    }
   ],
   "source": [
    "str1= 'hello'\n",
    "str2= 'muskan'\n",
    "str3=str1+\" \"+str2\n",
    "print(str3)"
   ]
  },
  {
   "cell_type": "code",
   "execution_count": null,
   "id": "c1d2da9c",
   "metadata": {},
   "outputs": [],
   "source": []
  },
  {
   "cell_type": "code",
   "execution_count": null,
   "id": "cbe4a993",
   "metadata": {},
   "outputs": [],
   "source": []
  },
  {
   "cell_type": "code",
   "execution_count": null,
   "id": "2fd1a88a",
   "metadata": {},
   "outputs": [],
   "source": []
  },
  {
   "cell_type": "code",
   "execution_count": null,
   "id": "35441927",
   "metadata": {},
   "outputs": [],
   "source": []
  }
 ],
 "metadata": {
  "kernelspec": {
   "display_name": "base",
   "language": "python",
   "name": "python3"
  },
  "language_info": {
   "codemirror_mode": {
    "name": "ipython",
    "version": 3
   },
   "file_extension": ".py",
   "mimetype": "text/x-python",
   "name": "python",
   "nbconvert_exporter": "python",
   "pygments_lexer": "ipython3",
   "version": "3.13.2"
  }
 },
 "nbformat": 4,
 "nbformat_minor": 5
}
