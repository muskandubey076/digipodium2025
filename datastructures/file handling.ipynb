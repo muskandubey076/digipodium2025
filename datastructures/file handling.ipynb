{
 "cells": [
  {
   "cell_type": "code",
   "execution_count": 1,
   "id": "04c7c08b",
   "metadata": {},
   "outputs": [],
   "source": [
    "import os"
   ]
  },
  {
   "cell_type": "code",
   "execution_count": 2,
   "id": "6347de36",
   "metadata": {},
   "outputs": [
    {
     "name": "stdout",
     "output_type": "stream",
     "text": [
      "Current Working Directory is : d:\\digipodium2025\\datastructures\n"
     ]
    }
   ],
   "source": [
    "print('Current Working Directory is :',os.getcwd())"
   ]
  },
  {
   "cell_type": "code",
   "execution_count": 3,
   "id": "0dde6a35",
   "metadata": {},
   "outputs": [
    {
     "name": "stdout",
     "output_type": "stream",
     "text": [
      "Files in current working directory ['armstrong.py', 'dictionary.ipynb', 'ex.py', 'fibonacci.py', 'file handling', 'file handling.ipynb', 'Lambda functions.ipynb', 'libaries.ipynb', 'list.ipynb', 'paliondrom.py', 'prime.py', 'str.ipynb']\n"
     ]
    }
   ],
   "source": [
    "files= os.listdir()\n",
    "print('Files in current working directory',files)"
   ]
  },
  {
   "cell_type": "code",
   "execution_count": 7,
   "id": "1f4001fe",
   "metadata": {},
   "outputs": [
    {
     "name": "stdout",
     "output_type": "stream",
     "text": [
      "Files in current working directory ['1', '1.ipynb', '2.ipynb']\n",
      "Number of files in specified directory: 3\n"
     ]
    }
   ],
   "source": [
    "files= os.listdir(r'D:\\digipodium2025\\path')\n",
    "print('Files in current working directory',files)\n",
    "print('Number of files in specified directory:',len(files))"
   ]
  },
  {
   "cell_type": "code",
   "execution_count": 8,
   "id": "b780bb38",
   "metadata": {},
   "outputs": [
    {
     "name": "stdout",
     "output_type": "stream",
     "text": [
      "=> C:\\Users\\Muskan\\Documents\\New folder\n",
      "📁,folders\n",
      "🗄️ []\n",
      "Total Files in directory tree: 0\n"
     ]
    }
   ],
   "source": [
    "total_files=0\n",
    "for path,folders,files in os.walk(r\"C:\\Users\\Muskan\\Documents\\New folder\"):\n",
    "    print('=>',path)\n",
    "    print('📁,folders')\n",
    "    print('🗄️',files)\n",
    "    total_files +=len(files)\n",
    "print('Total Files in directory tree:',total_files)\n"
   ]
  },
  {
   "cell_type": "code",
   "execution_count": 9,
   "id": "8ed15c59",
   "metadata": {},
   "outputs": [
    {
     "name": "stdout",
     "output_type": "stream",
     "text": [
      "file is not exists\n"
     ]
    }
   ],
   "source": [
    "#check file exist or not:\n",
    "files= r\"D:\\java\"\n",
    "if os.path.exists(files):\n",
    "    print(\"the file exists\")\n",
    "else:\n",
    "    print(\"file is not exists\")"
   ]
  },
  {
   "cell_type": "code",
   "execution_count": null,
   "id": "4479ee58",
   "metadata": {},
   "outputs": [],
   "source": []
  }
 ],
 "metadata": {
  "kernelspec": {
   "display_name": "base",
   "language": "python",
   "name": "python3"
  },
  "language_info": {
   "codemirror_mode": {
    "name": "ipython",
    "version": 3
   },
   "file_extension": ".py",
   "mimetype": "text/x-python",
   "name": "python",
   "nbconvert_exporter": "python",
   "pygments_lexer": "ipython3",
   "version": "3.13.2"
  }
 },
 "nbformat": 4,
 "nbformat_minor": 5
}
