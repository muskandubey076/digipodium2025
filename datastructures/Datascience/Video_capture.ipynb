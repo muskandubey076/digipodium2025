{
 "cells": [
  {
   "cell_type": "code",
   "execution_count": 3,
   "id": "801e2a57",
   "metadata": {},
   "outputs": [],
   "source": [
    "import cv2"
   ]
  },
  {
   "cell_type": "code",
   "execution_count": 4,
   "metadata": {},
   "outputs": [
    {
     "data": {
      "text/plain": [
       "True"
      ]
     },
     "execution_count": 4,
     "metadata": {},
     "output_type": "execute_result"
    }
   ],
   "source": [
    "# select the video source\n",
    "cap=cv2.VideoCapture(0)\n",
    "# capture single image\n",
    "ret,frame=cap.read()\n",
    "cv2.imshow('camera frame',frame)\n",
    "cv2.waitKey(0)\n",
    "cv2.destroyAllWindows()\n",
    "cap.release()# release the video capture object\n",
    "# save the captured image\n",
    "cv2.imwrite('selfie.png',frame)\n",
    "# read the saved image"
   ]
  },
  {
   "cell_type": "code",
   "execution_count": 6,
   "id": "d3b34d1b",
   "metadata": {},
   "outputs": [],
   "source": [
    "#select the video source\n",
    "cap = cv2.VideoCapture(0)\n",
    "# capture single image\n",
    "while True:\n",
    "    ret,frame = cap.read()\n",
    "    cv2.imshow('camera',frame)\n",
    "    if cv2.waitKey(1)==ord('q'):\n",
    "        break\n",
    "cv2.destroyAllWindows()\n",
    "cap.release()  # release the video capture object\n",
    "\n",
    "# save the captured image"
   ]
  },
  {
   "cell_type": "code",
   "execution_count": 8,
   "id": "a62ce487",
   "metadata": {},
   "outputs": [],
   "source": [
    "#select the video source\n",
    "cap = cv2.VideoCapture(0)\n",
    "fourcc= cv2.VideoWriter_fourcc(*'XVID')\n",
    "out=cv2.VideoWriter('output.avi',fourcc, 20.0, (640,480))\n",
    "#capture images in loop\n",
    "while True:\n",
    "    ret, frame = cap.read()\n",
    "    cv2.imshow('camera', frame)\n",
    "    out.write(frame)  # write the frame to the video file   \n",
    "    if cv2.waitKey(1) == ord('q'):\n",
    "        break\n",
    "cv2.destroyAllWindows()\n",
    "cap.release()  # release the video capture object\n",
    "out.release()  # release the video writer object"
   ]
  },
  {
   "cell_type": "code",
   "execution_count": null,
   "id": "53ac1d88",
   "metadata": {},
   "outputs": [],
   "source": []
  },
  {
   "cell_type": "code",
   "execution_count": null,
   "id": "92b08e4f",
   "metadata": {},
   "outputs": [],
   "source": []
  },
  {
   "cell_type": "code",
   "execution_count": null,
   "id": "15721363",
   "metadata": {},
   "outputs": [],
   "source": []
  },
  {
   "cell_type": "code",
   "execution_count": null,
   "id": "084c1a34",
   "metadata": {},
   "outputs": [],
   "source": []
  }
 ],
 "metadata": {
  "kernelspec": {
   "display_name": "base",
   "language": "python",
   "name": "python3"
  },
  "language_info": {
   "codemirror_mode": {
    "name": "ipython",
    "version": 3
   },
   "file_extension": ".py",
   "mimetype": "text/x-python",
   "name": "python",
   "nbconvert_exporter": "python",
   "pygments_lexer": "ipython3",
   "version": "3.13.2"
  }
 },
 "nbformat": 4,
 "nbformat_minor": 5
}
