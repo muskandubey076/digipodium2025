{
 "cells": [
  {
   "cell_type": "code",
   "execution_count": 19,
   "id": "a8ae613e",
   "metadata": {},
   "outputs": [],
   "source": [
    "from dputils.scrape import Scraper, Tag\n",
    "from pprint import pp"
   ]
  },
  {
   "cell_type": "markdown",
   "id": "c64d9798",
   "metadata": {},
   "source": [
    "- Tag is a class which helps to decide what to collect from the page\n",
    "- Scraper executes the scutes the scraping process"
   ]
  },
  {
   "cell_type": "code",
   "execution_count": 20,
   "id": "128a4ae2",
   "metadata": {},
   "outputs": [],
   "source": [
    "url= 'https://www.flipkart.com/tyy/4io/~cs-5mtuzwnz7z/pr?sid=tyy,4io&collection-tab-name=vivo+T4+Lite+5G&pageCriteria=default&param=57736&otracker=CLP_BannerX3&fm=organic&ppt=hp&ppn=homepage&ssid=7vphoevppc0000001755605566532'"
   ]
  },
  {
   "cell_type": "code",
   "execution_count": 21,
   "id": "0d62d2b3",
   "metadata": {},
   "outputs": [],
   "source": [
    "scraper = Scraper(url)\n"
   ]
  },
  {
   "cell_type": "code",
   "execution_count": 22,
   "id": "664f5596",
   "metadata": {},
   "outputs": [],
   "source": [
    "result=scraper.get_repeating_date_from_page(\n",
    "    target = Tag('div',cls='DOjaWF gdgoEp'),\n",
    "    items = Tag('div',cls='_75nlfW'),\n",
    "    Title = Tag('div',cls='KzDlHZ'),\n",
    "    Price = Tag('div',cls='col col-5-12 BfVC2z')\n",
    "\n",
    "    \n",
    ")"
   ]
  },
  {
   "cell_type": "code",
   "execution_count": 23,
   "metadata": {},
   "outputs": [
    {
     "data": {
      "text/plain": [
       "[]"
      ]
     },
     "execution_count": 23,
     "metadata": {},
     "output_type": "execute_result"
    }
   ],
   "source": [
    "result"
   ]
  },
  {
   "cell_type": "code",
   "execution_count": null,
   "id": "2d283257",
   "metadata": {},
   "outputs": [],
   "source": []
  },
  {
   "cell_type": "code",
   "execution_count": null,
   "id": "de79a9a4",
   "metadata": {},
   "outputs": [],
   "source": []
  },
  {
   "cell_type": "code",
   "execution_count": null,
   "id": "f3552034",
   "metadata": {},
   "outputs": [],
   "source": []
  },
  {
   "cell_type": "code",
   "execution_count": null,
   "metadata": {},
   "outputs": [],
   "source": []
  },
  {
   "cell_type": "code",
   "execution_count": null,
   "id": "d480c85b",
   "metadata": {},
   "outputs": [],
   "source": []
  }
 ],
 "metadata": {
  "kernelspec": {
   "display_name": "base",
   "language": "python",
   "name": "python3"
  },
  "language_info": {
   "codemirror_mode": {
    "name": "ipython",
    "version": 3
   },
   "file_extension": ".py",
   "mimetype": "text/x-python",
   "name": "python",
   "nbconvert_exporter": "python",
   "pygments_lexer": "ipython3",
   "version": "3.13.2"
  }
 },
 "nbformat": 4,
 "nbformat_minor": 5
}
