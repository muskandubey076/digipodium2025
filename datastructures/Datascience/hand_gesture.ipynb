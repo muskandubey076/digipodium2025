{
 "cells": [
  {
   "cell_type": "code",
   "execution_count": 1,
   "id": "7b1c20c1",
   "metadata": {},
   "outputs": [
    {
     "ename": "SyntaxError",
     "evalue": "invalid syntax (3287059826.py, line 1)",
     "output_type": "error",
     "traceback": [
      "  \u001b[36mCell\u001b[39m\u001b[36m \u001b[39m\u001b[32mIn[1]\u001b[39m\u001b[32m, line 1\u001b[39m\n\u001b[31m    \u001b[39m\u001b[31mpython -m pip install mediapipe\u001b[39m\n              ^\n\u001b[31mSyntaxError\u001b[39m\u001b[31m:\u001b[39m invalid syntax\n"
     ]
    }
   ],
   "source": [
    "python -m pip install mediapipe"
   ]
  },
  {
   "cell_type": "code",
   "execution_count": null,
   "id": "b8e6bea4",
   "metadata": {},
   "outputs": [],
   "source": [
    "mp_hands = mp.solution.hands\n",
    "mp_draw= mp.solutions.drawing_utils\n",
    "cap=cv2.VideoCapture(0)\n",
    "# Start mudiapipe hands\n",
    "with mp_hands(min_detection_cofidence=0.7,min_trecking_confidence=0.7)as hands:\n",
    "    while True:\n",
    "        ret,frame = cap.read()\n",
    "        frame = cv2.cvtcolor(frame,cv2,color_BGR2RGB)\n",
    "        results=hands.process(rgb)\n",
    "        gesture = \"No Hand\"\n",
    "        if results.multi_hand_landmrks:\n",
    "            for hand_landmarks in results.multi_hand_landmarks:\n",
    "                mp_draw.draw_landmarks(frame,hand_landmarks,mp_hands.HAND_CONNECTIONS)\n",
    "\n",
    "                # get landmark y position of finger tips\n",
    "                landmarks=hand_landmarks.landmark\n",
    "                \n",
    "                tips=[8,12,16,20]#index ,middle,ring,pinky finger tips\n",
    "                finger = []\n",
    "                for tip in tips:\n",
    "                    if hand_landmarks.landmark[tip].y < hand_landmarks.landmark[tip-2].y:\n",
    "                        finger.append(1)#finger open\n",
    "                    else:\n",
    "                        finger.append(0)#finger close\n",
    "                    if sum(finger)==0:\n",
    "                        gesture=\"frist\"\n",
    "                    elif sum(finger)==4:\n",
    "                        gesture=\"open palm✋\"\n",
    "                    else:\n",
    "                        gesture=\"other Gesture\"\n"
   ]
  },
  {
   "cell_type": "code",
   "execution_count": null,
   "metadata": {},
   "outputs": [],
   "source": []
  },
  {
   "cell_type": "code",
   "execution_count": null,
   "id": "bcde16ea",
   "metadata": {},
   "outputs": [],
   "source": []
  },
  {
   "cell_type": "code",
   "execution_count": null,
   "id": "05638fed",
   "metadata": {},
   "outputs": [],
   "source": []
  },
  {
   "cell_type": "code",
   "execution_count": null,
   "id": "619cd33d",
   "metadata": {},
   "outputs": [],
   "source": []
  },
  {
   "cell_type": "code",
   "execution_count": null,
   "id": "b285cad6",
   "metadata": {},
   "outputs": [],
   "source": []
  },
  {
   "cell_type": "code",
   "execution_count": null,
   "id": "de8737b1",
   "metadata": {},
   "outputs": [],
   "source": []
  },
  {
   "cell_type": "code",
   "execution_count": null,
   "id": "fea55e31",
   "metadata": {},
   "outputs": [],
   "source": []
  }
 ],
 "metadata": {
  "kernelspec": {
   "display_name": "base",
   "language": "python",
   "name": "python3"
  },
  "language_info": {
   "codemirror_mode": {
    "name": "ipython",
    "version": 3
   },
   "file_extension": ".py",
   "mimetype": "text/x-python",
   "name": "python",
   "nbconvert_exporter": "python",
   "pygments_lexer": "ipython3",
   "version": "3.13.2"
  }
 },
 "nbformat": 4,
 "nbformat_minor": 5
}
