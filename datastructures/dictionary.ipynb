{
 "cells": [
  {
   "cell_type": "markdown",
   "id": "8bae3872",
   "metadata": {},
   "source": []
  },
  {
   "cell_type": "markdown",
   "id": "9d91ba12",
   "metadata": {},
   "source": []
  },
  {
   "cell_type": "code",
   "execution_count": 18,
   "id": "085329ad",
   "metadata": {},
   "outputs": [
    {
     "name": "stdout",
     "output_type": "stream",
     "text": [
      "{'name': 'muskan', 'rollno.': '24', 'marks': '85'}\n"
     ]
    }
   ],
   "source": [
    "student = {\"name\":'muskan', \"rollno.\":'24', \"marks\":'85'}\n",
    "print(student)"
   ]
  },
  {
   "cell_type": "code",
   "execution_count": 19,
   "id": "d5ffd83b",
   "metadata": {},
   "outputs": [],
   "source": [
    "# how to declare it \n",
    "# how to access key vlaue and pairs\n",
    "# how to use loops in dictionary\n",
    "# indexing in dictionary"
   ]
  },
  {
   "cell_type": "code",
   "execution_count": 20,
   "id": "4f72b0ec",
   "metadata": {},
   "outputs": [
    {
     "name": "stdout",
     "output_type": "stream",
     "text": [
      "{'lucknow': [30, 40, 42], 'delhi': [32, 42, 36], 'mumbai': [40, 32, 24]}\n"
     ]
    }
   ],
   "source": [
    "temp= {\n",
    "    'lucknow' : [30,40,42],\n",
    "    'delhi' : [32,42,36],\n",
    "    'mumbai': [40,32,24]\n",
    "\n",
    "}\n",
    "print(temp)"
   ]
  },
  {
   "cell_type": "code",
   "execution_count": 21,
   "id": "3bfba697",
   "metadata": {},
   "outputs": [
    {
     "name": "stdout",
     "output_type": "stream",
     "text": [
      "{'name': 'john', 'age': '24', 'grade': '12th'}\n"
     ]
    }
   ],
   "source": [
    "info= dict( name= \"john\", age=\"24\", grade=\"12th\")\n",
    "print(info)"
   ]
  },
  {
   "cell_type": "code",
   "execution_count": 22,
   "id": "8c866f23",
   "metadata": {},
   "outputs": [
    {
     "name": "stdout",
     "output_type": "stream",
     "text": [
      "24\n",
      "12th\n"
     ]
    }
   ],
   "source": [
    "# 2.accessing method\n",
    "#1st method to access vlue through key\n",
    "print(info['age'])\n",
    "#2nd mthod \n",
    "print(info.get('grade'))"
   ]
  },
  {
   "cell_type": "code",
   "execution_count": 23,
   "id": "83cb1c7f",
   "metadata": {},
   "outputs": [
    {
     "name": "stdout",
     "output_type": "stream",
     "text": [
      "{'name': 'muskan', 'rollno.': '24', 'marks': '85', 'city': 'new yark'}\n"
     ]
    }
   ],
   "source": [
    "# to add new key-vlaue pair\n",
    "student['city']='new yark'\n",
    "print(student)"
   ]
  },
  {
   "cell_type": "code",
   "execution_count": 24,
   "id": "b4754c81",
   "metadata": {},
   "outputs": [
    {
     "name": "stdout",
     "output_type": "stream",
     "text": [
      "{'name': 'john', 'age': '24', 'grade': '12th', 'father': 'ramesh'}\n"
     ]
    }
   ],
   "source": [
    "info['father']='ramesh'\n",
    "print(info)"
   ]
  },
  {
   "cell_type": "code",
   "execution_count": 25,
   "id": "07150ef5",
   "metadata": {},
   "outputs": [
    {
     "name": "stdout",
     "output_type": "stream",
     "text": [
      "{'name': 'muskan', 'rollno.': '24', 'city': 'new yark'}\n"
     ]
    }
   ],
   "source": [
    "# to delete a key vlaue pair\n",
    "del student['marks']\n",
    "print(student)"
   ]
  },
  {
   "cell_type": "code",
   "execution_count": 27,
   "id": "b08c3e5b",
   "metadata": {},
   "outputs": [
    {
     "name": "stdout",
     "output_type": "stream",
     "text": [
      "{'name': ['john', 'deo', 'smith'], 'age': [20, 30, 40]}\n"
     ]
    }
   ],
   "source": [
    "student2= {\n",
    "    \"name\":['john', 'deo', 'smith'],\n",
    "    \"age\":[20, 30 ,40],\n",
    "}\n",
    "print(student2)"
   ]
  },
  {
   "cell_type": "code",
   "execution_count": null,
   "id": "8603c82c",
   "metadata": {},
   "outputs": [
    {
     "name": "stdout",
     "output_type": "stream",
     "text": [
      "{'name': ['john', 'deo', 'smith', 'Alice', 'Alice', 'Alice'], 'age': [20, 30, 40]}\n"
     ]
    }
   ],
   "source": [
    "student2['name'].append('Alice') \n",
    "print(student2)"
   ]
  },
  {
   "cell_type": "code",
   "execution_count": 32,
   "id": "df771e67",
   "metadata": {},
   "outputs": [
    {
     "ename": "IndentationError",
     "evalue": "unexpected indent (128934308.py, line 1)",
     "output_type": "error",
     "traceback": [
      "  \u001b[36mCell\u001b[39m\u001b[36m \u001b[39m\u001b[32mIn[32]\u001b[39m\u001b[32m, line 1\u001b[39m\n\u001b[31m    \u001b[39m\u001b[31mstudent2['age'].insert(2,'50')\u001b[39m\n    ^\n\u001b[31mIndentationError\u001b[39m\u001b[31m:\u001b[39m unexpected indent\n"
     ]
    }
   ],
   "source": [
    " student2['age'].insert(2,'50')\n",
    "print(student2)"
   ]
  },
  {
   "cell_type": "code",
   "execution_count": 34,
   "id": "e22e2b1b",
   "metadata": {},
   "outputs": [
    {
     "name": "stdout",
     "output_type": "stream",
     "text": [
      "dict_values(['muskan', '24', 'new yark'])\n"
     ]
    }
   ],
   "source": [
    "print(student.values())"
   ]
  },
  {
   "cell_type": "code",
   "execution_count": 35,
   "id": "23140a04",
   "metadata": {},
   "outputs": [
    {
     "name": "stdout",
     "output_type": "stream",
     "text": [
      "dict_items([('name', 'muskan'), ('rollno.', '24'), ('city', 'new yark')])\n"
     ]
    }
   ],
   "source": [
    "print(student.items())"
   ]
  },
  {
   "cell_type": "code",
   "execution_count": 36,
   "id": "69b36af6",
   "metadata": {},
   "outputs": [
    {
     "name": "stdout",
     "output_type": "stream",
     "text": [
      "name\n",
      "rollno.\n",
      "city\n"
     ]
    }
   ],
   "source": [
    "for k in student:\n",
    "    print(k)"
   ]
  },
  {
   "cell_type": "code",
   "execution_count": 37,
   "id": "21e1006d",
   "metadata": {},
   "outputs": [
    {
     "name": "stdout",
     "output_type": "stream",
     "text": [
      "name : john\n",
      "age : 24\n",
      "grade : 12th\n",
      "father : ramesh\n"
     ]
    }
   ],
   "source": [
    "for k,v in info.items():\n",
    "    print(f\"{k} : {v}\")"
   ]
  },
  {
   "cell_type": "code",
   "execution_count": 39,
   "id": "f771d799",
   "metadata": {},
   "outputs": [
    {
     "name": "stdout",
     "output_type": "stream",
     "text": [
      "sum of  10 and 20 is 30\n",
      "sum of 10 and 20 is 30\n"
     ]
    }
   ],
   "source": [
    "#EX \n",
    "a=10\n",
    "b=20\n",
    "sum= a+b\n",
    "print(\"sum of \",a, \"and\",b, \"is\",sum)\n",
    "print(f\"sum of {a} and {b} is {sum}\")\n"
   ]
  },
  {
   "cell_type": "markdown",
   "id": "e0ff4920",
   "metadata": {},
   "source": [
    "# Nested dict"
   ]
  },
  {
   "cell_type": "code",
   "execution_count": 40,
   "id": "ac3a125d",
   "metadata": {},
   "outputs": [
    {
     "name": "stdout",
     "output_type": "stream",
     "text": [
      "{'emp01': {'name': 'alice', 'age': 30, 'department': 'HR'}, 'emp02': {'name': 'bob', 'age': 25, 'department': 'IT'}, 'emp03': {'name': 'charli', 'age': 22, 'department': 'finance'}}\n"
     ]
    }
   ],
   "source": [
    "company={\n",
    "    \"emp01\":{\"name\": \"alice\", \"age\": 30, \"department\": \"HR\"},\n",
    "    \"emp02\":{ \"name\":\"bob\", \"age\": 25, \"department\":\"IT\"},\n",
    "    \"emp03\":{\"name\": \"charli\", \"age\":22,\"department\":\"finance\"},\n",
    "}\n",
    "print(company)"
   ]
  },
  {
   "cell_type": "code",
   "execution_count": null,
   "id": "2bf95d5d",
   "metadata": {},
   "outputs": [
    {
     "name": "stdout",
     "output_type": "stream",
     "text": [
      "{'emp01': {'age': 30, 'department': 'HR', 'name': 'alice'},\n",
      " 'emp02': {'age': 25, 'department': 'IT', 'name': 'bob'},\n",
      " 'emp03': {'age': 22, 'department': 'finance', 'name': 'charli'}}\n"
     ]
    }
   ],
   "source": [
    "from pprint import pprint  # this is import statment use for orgnaisetion:\n",
    "pprint(company)\n"
   ]
  },
  {
   "cell_type": "code",
   "execution_count": 42,
   "id": "91815301",
   "metadata": {},
   "outputs": [
    {
     "data": {
      "text/plain": [
       "'IT'"
      ]
     },
     "execution_count": 42,
     "metadata": {},
     "output_type": "execute_result"
    }
   ],
   "source": [
    "company['emp02']['department']"
   ]
  },
  {
   "cell_type": "code",
   "execution_count": null,
   "id": "11fc732b",
   "metadata": {},
   "outputs": [],
   "source": [
    "# calculate the average temperature of lucknow:\n",
    "tem={\n",
    "    \n",
    "}"
   ]
  },
  {
   "cell_type": "code",
   "execution_count": null,
   "id": "73a44bf3",
   "metadata": {},
   "outputs": [],
   "source": []
  },
  {
   "cell_type": "code",
   "execution_count": null,
   "id": "72570af4",
   "metadata": {},
   "outputs": [],
   "source": []
  }
 ],
 "metadata": {
  "kernelspec": {
   "display_name": "base",
   "language": "python",
   "name": "python3"
  },
  "language_info": {
   "codemirror_mode": {
    "name": "ipython",
    "version": 3
   },
   "file_extension": ".py",
   "mimetype": "text/x-python",
   "name": "python",
   "nbconvert_exporter": "python",
   "pygments_lexer": "ipython3",
   "version": "3.13.2"
  }
 },
 "nbformat": 4,
 "nbformat_minor": 5
}
