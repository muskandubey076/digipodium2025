{
 "cells": [
  {
   "cell_type": "markdown",
   "id": "5ec47190",
   "metadata": {},
   "source": [
    "# for loop:"
   ]
  },
  {
   "cell_type": "code",
   "execution_count": null,
   "id": "9877144b",
   "metadata": {},
   "outputs": [
    {
     "name": "stdout",
     "output_type": "stream",
     "text": [
      "apple\n",
      "banana\n",
      "cherry\n",
      "date\n",
      "cherry\n"
     ]
    }
   ],
   "source": [
    "fruits=['apple','banana','cherry','date','cherry']\n",
    "for i in fruits:\n",
    "    print(i)"
   ]
  },
  {
   "cell_type": "code",
   "execution_count": 8,
   "id": "01f0ef70",
   "metadata": {},
   "outputs": [
    {
     "name": "stdout",
     "output_type": "stream",
     "text": [
      "apple banana cherry date cherry "
     ]
    }
   ],
   "source": [
    "fruits=['apple','banana','cherry','date','cherry']\n",
    "for i in fruits:\n",
    " print(i,end=\" \")"
   ]
  },
  {
   "cell_type": "code",
   "execution_count": 10,
   "id": "a225e485",
   "metadata": {},
   "outputs": [
    {
     "name": "stdout",
     "output_type": "stream",
     "text": [
      "1\n",
      "2\n",
      "3\n",
      "4\n",
      "5\n"
     ]
    }
   ],
   "source": [
    "for x in range(1,6):\n",
    "    print(x)"
   ]
  },
  {
   "cell_type": "code",
   "execution_count": 12,
   "id": "9c4d0894",
   "metadata": {},
   "outputs": [
    {
     "name": "stdout",
     "output_type": "stream",
     "text": [
      "0\n",
      "1\n",
      "2\n",
      "3\n",
      "4\n"
     ]
    }
   ],
   "source": [
    "for x in range(5):\n",
    "    print(x)"
   ]
  },
  {
   "cell_type": "code",
   "execution_count": 15,
   "id": "c63c066f",
   "metadata": {},
   "outputs": [
    {
     "name": "stdout",
     "output_type": "stream",
     "text": [
      "1\n",
      "3\n",
      "5\n",
      "7\n",
      "9\n",
      "11\n",
      "13\n",
      "15\n",
      "17\n",
      "19\n"
     ]
    }
   ],
   "source": [
    "for i in range(1,21,2):#(star range, end range, gap range)\n",
    "    print(i)"
   ]
  },
  {
   "cell_type": "code",
   "execution_count": 16,
   "id": "b7f94270",
   "metadata": {},
   "outputs": [
    {
     "name": "stdout",
     "output_type": "stream",
     "text": [
      "0\n",
      "2\n",
      "4\n",
      "6\n",
      "8\n",
      "10\n",
      "12\n",
      "14\n",
      "16\n",
      "18\n",
      "20\n"
     ]
    }
   ],
   "source": [
    "for i in range(0,21,2):#(star range, end range, gap range)\n",
    "    print(i)"
   ]
  },
  {
   "cell_type": "code",
   "execution_count": 21,
   "id": "f879b111",
   "metadata": {},
   "outputs": [
    {
     "name": "stdout",
     "output_type": "stream",
     "text": [
      "muskan\n",
      "muskan\n",
      "muskan\n",
      "muskan\n",
      "muskan\n"
     ]
    }
   ],
   "source": [
    "# print your name 5 times \n",
    "for i in range(5):\n",
    "    print(\"muskan\")"
   ]
  },
  {
   "cell_type": "code",
   "execution_count": 31,
   "id": "2a71ef29",
   "metadata": {},
   "outputs": [
    {
     "name": "stdout",
     "output_type": "stream",
     "text": [
      "135791113151719"
     ]
    }
   ],
   "source": [
    "#Print odd numbers from 1 to 20 using condition statement not gap\n",
    "for i in range(1,20):\n",
    "    if i%2!=0:\n",
    "        print(i,end=\"\")"
   ]
  },
  {
   "cell_type": "code",
   "execution_count": 34,
   "id": "ef54aba2",
   "metadata": {},
   "outputs": [
    {
     "name": "stdout",
     "output_type": "stream",
     "text": [
      "0\n",
      "2\n",
      "4\n",
      "6\n",
      "8\n",
      "10\n",
      "12\n",
      "14\n",
      "16\n",
      "18\n",
      "20\n"
     ]
    }
   ],
   "source": [
    "# print even number from 1 to 20 using gap\n",
    "for i in range(0,21,2):\n",
    "    print(i)"
   ]
  },
  {
   "cell_type": "markdown",
   "id": "bd0d22e7",
   "metadata": {},
   "source": [
    "# while loop:"
   ]
  },
  {
   "cell_type": "code",
   "execution_count": 36,
   "id": "2f532c03",
   "metadata": {},
   "outputs": [
    {
     "name": "stdout",
     "output_type": "stream",
     "text": [
      "0\n",
      "1\n",
      "2\n",
      "3\n",
      "4\n"
     ]
    }
   ],
   "source": [
    "x=0\n",
    "while x<5:\n",
    "    print(x)\n",
    "    x+=1"
   ]
  },
  {
   "cell_type": "code",
   "execution_count": 42,
   "id": "062a74c9",
   "metadata": {},
   "outputs": [
    {
     "name": "stdout",
     "output_type": "stream",
     "text": [
      "muskan\n",
      "muskan\n",
      "muskan\n",
      "muskan\n",
      "muskan\n"
     ]
    }
   ],
   "source": [
    "#print your name 5 times using while loop:\n",
    "x=0\n",
    "while x<5:\n",
    "    print(\"muskan\")\n",
    "    x+=1"
   ]
  },
  {
   "cell_type": "code",
   "execution_count": 49,
   "metadata": {},
   "outputs": [
    {
     "name": "stdout",
     "output_type": "stream",
     "text": [
      "135791113151719"
     ]
    }
   ],
   "source": [
    "# print odd numbers 1 to 20 using condition statement not gap using while loop:\n",
    "x=1\n",
    "while x<=20:\n",
    "    if x%2 !=0:\n",
    "        print(x,end=\"\")\n",
    "    x +=1"
   ]
  },
  {
   "cell_type": "code",
   "execution_count": 53,
   "id": "5c3b5e37",
   "metadata": {},
   "outputs": [
    {
     "name": "stdout",
     "output_type": "stream",
     "text": [
      "0\n",
      "2\n",
      "4\n",
      "6\n",
      "8\n",
      "10\n",
      "12\n",
      "14\n",
      "16\n",
      "18\n",
      "20\n"
     ]
    }
   ],
   "source": [
    "#print even numbers 1 to 21 using condition statemet using gap\n",
    "x=0\n",
    "while x<=20:\n",
    "    if x%2==0:\n",
    "        print(x)\n",
    "    x+=1    \n"
   ]
  },
  {
   "cell_type": "markdown",
   "id": "be5fcc11",
   "metadata": {},
   "source": [
    "# break and continue:"
   ]
  },
  {
   "cell_type": "markdown",
   "id": "7753425d",
   "metadata": {},
   "source": [
    "# 1: Break:"
   ]
  },
  {
   "cell_type": "code",
   "execution_count": 54,
   "id": "6d7e2b1a",
   "metadata": {},
   "outputs": [
    {
     "name": "stdout",
     "output_type": "stream",
     "text": [
      "apple banana "
     ]
    }
   ],
   "source": [
    "fruits=['apple','banana','cherry','date','cherry']\n",
    "for i in fruits:\n",
    "    if i=='cherry':\n",
    "        break\n",
    "    print(i,end=\" \")"
   ]
  },
  {
   "cell_type": "code",
   "execution_count": 55,
   "id": "28f03144",
   "metadata": {},
   "outputs": [
    {
     "name": "stdout",
     "output_type": "stream",
     "text": [
      "1\n",
      "2\n",
      "3\n",
      "4\n"
     ]
    }
   ],
   "source": [
    "num=[1,2,3,4,5,6,7,8,9,10]\n",
    "for i in num:\n",
    "    if i ==5:\n",
    "        break\n",
    "    print(i)"
   ]
  },
  {
   "cell_type": "markdown",
   "id": "7e7bd499",
   "metadata": {},
   "source": [
    "# continue:"
   ]
  },
  {
   "cell_type": "code",
   "execution_count": 56,
   "id": "b50e29c1",
   "metadata": {},
   "outputs": [
    {
     "name": "stdout",
     "output_type": "stream",
     "text": [
      "1\n",
      "2\n",
      "3\n",
      "4\n",
      "6\n",
      "7\n",
      "8\n",
      "9\n",
      "10\n"
     ]
    }
   ],
   "source": [
    "num=[1,2,3,4,5,6,7,8,9,10]\n",
    "for i in num:\n",
    "    if i ==5:\n",
    "        continue\n",
    "    print(i)"
   ]
  },
  {
   "cell_type": "code",
   "execution_count": null,
   "id": "290dc86a",
   "metadata": {},
   "outputs": [],
   "source": [
    "#check whether a number is even or odd\n",
    "num=int(input(\"enter a number\"))\n",
    "if num%2==0:\n",
    "    print(\"even\")\n",
    "else:\n",
    "    print(\"odd\")"
   ]
  },
  {
   "cell_type": "code",
   "execution_count": null,
   "id": "30c2acdb",
   "metadata": {},
   "outputs": [],
   "source": [
    "#check whether two sides of a rectangle is equal or not\n",
    "len=float(input(\"enter a vlue\"))"
   ]
  },
  {
   "cell_type": "code",
   "execution_count": null,
   "metadata": {},
   "outputs": [],
   "source": [
    "# check whether a triangle is an equilateral triangle or iscoceles triangle"
   ]
  },
  {
   "cell_type": "code",
   "execution_count": null,
   "id": "15f80dc3",
   "metadata": {},
   "outputs": [],
   "source": [
    "# check whether a character enterd by user is vowel or not\n"
   ]
  },
  {
   "cell_type": "code",
   "execution_count": null,
   "id": "a2ae719c",
   "metadata": {},
   "outputs": [],
   "source": [
    "# calculate the gross salary of an employee where the basic salary is 50000,DAis 5%of basic salary and HRA is 10% of basic salary"
   ]
  }
 ],
 "metadata": {
  "kernelspec": {
   "display_name": "base",
   "language": "python",
   "name": "python3"
  },
  "language_info": {
   "codemirror_mode": {
    "name": "ipython",
    "version": 3
   },
   "file_extension": ".py",
   "mimetype": "text/x-python",
   "name": "python",
   "nbconvert_exporter": "python",
   "pygments_lexer": "ipython3",
   "version": "3.13.2"
  }
 },
 "nbformat": 4,
 "nbformat_minor": 5
}
